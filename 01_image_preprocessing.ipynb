{
 "cells": [
  {
   "cell_type": "markdown",
   "id": "6148dbd0-6fe2-4fd7-aa66-80e1676ca198",
   "metadata": {},
   "source": [
    "# Image Processing Pipeline for Cell Segmentation Training\n",
    "\n",
    "This notebook is the **first step** of a two-part protocol for automated cell counting in fluorescence microscopy images.\n",
    "\n",
    "## Overview\n",
    "This code processes .czi microscopy files by:\n",
    "1. **Splitting multi-channel images**: Extracts individual fluorescence channels (C0, C1, C2, C3) and Z-planes from .czi files\n",
    "2. **Converting to OME-TIFF format**: Saves each channel/Z-plane combination as individual .tif files for easier processing\n",
    "3. **Automated cell segmentation**: Uses Cellpose (cpsam model) to automatically detect cell boundaries and create segmentation masks\n",
    "\n",
    "## Workflow\n",
    "- **Input**: .czi files from confocal microscopy\n",
    "- **Output**: Individual channel images + segmentation masks in a \"train\" folder\n",
    "- **Next step**: Run `Contar_Rita2.ipynb` to perform cell counting and co-localization analysis\n",
    "\n",
    "## Files Generated\n",
    "- `filename_C0_Z0.ome.tif`: Channel 0, Z-plane 0 image\n",
    "- `filename_C0_Z0.ome_mask.tiff`: Corresponding segmentation mask\n",
    "- `filename_C0_Z0.zip`: ROI coordinates for detected cells"
   ]
  },
  {
   "cell_type": "code",
   "execution_count": 12,
   "id": "0079382b-24d9-4862-abe2-4bbdb780daa6",
   "metadata": {},
   "outputs": [
    {
     "name": "stdout",
     "output_type": "stream",
     "text": [
      "[INFO] Processing: 20240913_rc_brain_2_3_fos_neun_gfp-01_AcquisitionBlock8_pt8-Stitching-08.czi\n",
      "[OK] Export complete: 20240913_rc_brain_2_3_fos_neun_gfp-01_AcquisitionBlock8_pt8-Stitching-08.czi\n"
     ]
    }
   ],
   "source": [
    "# Import required libraries for image processing\n",
    "from aicspylibczi import CziFile  # For reading .czi microscopy files\n",
    "from tifffile import imwrite      # For writing TIFF images\n",
    "from pathlib import Path          # For file path operations\n",
    "import numpy as np                # For numerical operations\n",
    "\n",
    "def export_channels_z(czi_file_list):\n",
    "    \"\"\"\n",
    "    Step 1: Extract Individual Channels and Z-planes from CZI Files\n",
    "    \n",
    "    This function takes .czi microscopy files and splits them into individual\n",
    "    channel/Z-plane combinations, saving each as a separate OME-TIFF file.\n",
    "    \n",
    "    Parameters:\n",
    "    - czi_file_list: List of paths to .czi files to process\n",
    "    \n",
    "    Output:\n",
    "    - Creates a 'train' folder next to each original file\n",
    "    - Saves individual channel/Z-plane images as OME-TIFF files\n",
    "    - Naming convention: filename_C{channel}_Z{z-plane}.ome.tif\n",
    "    \"\"\"\n",
    "    # Ensure input is always a list for consistent processing\n",
    "    if isinstance(czi_file_list, (str, Path)):\n",
    "        czi_file_list = [czi_file_list]\n",
    "\n",
    "    # Process each .czi file in the list\n",
    "    for file in czi_file_list:\n",
    "        file_path = Path(file)\n",
    "        \n",
    "        # Check if file exists before processing\n",
    "        if not file_path.exists():\n",
    "            print(f\"[ERROR] File not found: {file_path}\")\n",
    "            continue\n",
    "\n",
    "        try:\n",
    "            print(f\"[INFO] Processing: {file_path.name}\")\n",
    "            \n",
    "            # Open the .czi file using aicspylibczi\n",
    "            czi = CziFile(file_path)\n",
    "\n",
    "            # Create output directory for processed images\n",
    "            output_folder = file_path.parent / \"train\"\n",
    "            output_folder.mkdir(parents=True, exist_ok=True)\n",
    "\n",
    "            # Extract base filename without extension\n",
    "            base_name = file_path.stem\n",
    "\n",
    "            # Get image dimensions to determine number of channels and Z-planes\n",
    "            dims = czi.get_dims_shape()[0]\n",
    "            num_channels = dims['C'][1]  # Number of fluorescence channels\n",
    "            num_z = dims['Z'][1]         # Number of Z-planes (depth)\n",
    "\n",
    "            print(f\"[INFO] Found {num_channels} channels and {num_z} Z-planes\")\n",
    "\n",
    "            # Extract each channel/Z-plane combination\n",
    "            for c in range(num_channels):\n",
    "                for z in range(num_z):\n",
    "                    # Read the specific channel and Z-plane\n",
    "                    # Convert to 16-bit unsigned integer for compatibility\n",
    "                    img = czi.read_mosaic(C=c, Z=z).squeeze().astype(np.uint16)\n",
    "                    \n",
    "                    # Generate filename following naming convention\n",
    "                    tif_name = f\"{base_name}_C{c}_Z{z}.ome.tif\"\n",
    "                    tif_path = output_folder / tif_name\n",
    "\n",
    "                    # Save as OME-TIFF with proper metadata\n",
    "                    imwrite(\n",
    "                        tif_path,\n",
    "                        img,\n",
    "                        photometric=\"minisblack\",  # Grayscale format\n",
    "                        metadata={\"axes\": \"YX\"}    # 2D image format\n",
    "                    )\n",
    "\n",
    "            print(f\"[OK] Export complete: {file_path.name}\")\n",
    "\n",
    "        except Exception as e:\n",
    "            print(f\"[ERROR] Failed to process {file_path.name}: {e}\")\n",
    "\n",
    "# Define files to process\n",
    "# Add your .czi file paths here\n",
    "files = [\n",
    "    \"../slice_8/20240913_rc_brain_2_3_fos_neun_gfp-01_AcquisitionBlock8_pt8-Stitching-08.czi\",\n",
    "    # Add more files as needed:\n",
    "    # \"/path/to/another/file.czi\"\n",
    "]\n",
    "\n",
    "# Execute the channel extraction\n",
    "export_channels_z(files)\n"
   ]
  },
  {
   "cell_type": "code",
   "execution_count": 8,
   "id": "2afd79bd-58f6-4c92-b500-98795eba2425",
   "metadata": {},
   "outputs": [
    {
     "name": "stderr",
     "output_type": "stream",
     "text": [
      "/home/bioimaging/miniconda3/envs/cellpose/lib/python3.10/site-packages/skimage/_shared/utils.py:328: UserWarning: /media/bioimaging/SWAP/Rita_Alex/train/20240913_rc_brain_2_3_fos_neun_gfp-01_AcquisitionBlock8_pt8-Stitching-08_C0_Z0.ome_mask.tiff is a low contrast image\n",
      "  return func(*args, **kwargs)\n"
     ]
    },
    {
     "name": "stdout",
     "output_type": "stream",
     "text": [
      "time : 106.74s 20240913_rc_brain_2_3_fos_neun_gfp-01_AcquisitionBlock8_pt8-Stitching-08_C0_Z0.ome\n"
     ]
    },
    {
     "name": "stderr",
     "output_type": "stream",
     "text": [
      "/home/bioimaging/miniconda3/envs/cellpose/lib/python3.10/site-packages/skimage/_shared/utils.py:328: UserWarning: /media/bioimaging/SWAP/Rita_Alex/train/20240913_rc_brain_2_3_fos_neun_gfp-01_AcquisitionBlock8_pt8-Stitching-08_C0_Z1.ome_mask.tiff is a low contrast image\n",
      "  return func(*args, **kwargs)\n"
     ]
    },
    {
     "name": "stdout",
     "output_type": "stream",
     "text": [
      "time : 106.63s 20240913_rc_brain_2_3_fos_neun_gfp-01_AcquisitionBlock8_pt8-Stitching-08_C0_Z1.ome\n"
     ]
    },
    {
     "name": "stderr",
     "output_type": "stream",
     "text": [
      "/home/bioimaging/miniconda3/envs/cellpose/lib/python3.10/site-packages/skimage/_shared/utils.py:328: UserWarning: /media/bioimaging/SWAP/Rita_Alex/train/20240913_rc_brain_2_3_fos_neun_gfp-01_AcquisitionBlock8_pt8-Stitching-08_C0_Z2.ome_mask.tiff is a low contrast image\n",
      "  return func(*args, **kwargs)\n"
     ]
    },
    {
     "name": "stdout",
     "output_type": "stream",
     "text": [
      "time : 105.69s 20240913_rc_brain_2_3_fos_neun_gfp-01_AcquisitionBlock8_pt8-Stitching-08_C0_Z2.ome\n"
     ]
    },
    {
     "name": "stderr",
     "output_type": "stream",
     "text": [
      "/home/bioimaging/miniconda3/envs/cellpose/lib/python3.10/site-packages/skimage/_shared/utils.py:328: UserWarning: /media/bioimaging/SWAP/Rita_Alex/train/20240913_rc_brain_2_3_fos_neun_gfp-01_AcquisitionBlock8_pt8-Stitching-08_C0_Z3.ome_mask.tiff is a low contrast image\n",
      "  return func(*args, **kwargs)\n"
     ]
    },
    {
     "name": "stdout",
     "output_type": "stream",
     "text": [
      "time : 110.19s 20240913_rc_brain_2_3_fos_neun_gfp-01_AcquisitionBlock8_pt8-Stitching-08_C0_Z3.ome\n"
     ]
    },
    {
     "name": "stderr",
     "output_type": "stream",
     "text": [
      "/home/bioimaging/miniconda3/envs/cellpose/lib/python3.10/site-packages/skimage/_shared/utils.py:328: UserWarning: /media/bioimaging/SWAP/Rita_Alex/train/20240913_rc_brain_2_3_fos_neun_gfp-01_AcquisitionBlock8_pt8-Stitching-08_C0_Z4.ome_mask.tiff is a low contrast image\n",
      "  return func(*args, **kwargs)\n"
     ]
    },
    {
     "name": "stdout",
     "output_type": "stream",
     "text": [
      "time : 108.90s 20240913_rc_brain_2_3_fos_neun_gfp-01_AcquisitionBlock8_pt8-Stitching-08_C0_Z4.ome\n"
     ]
    },
    {
     "name": "stderr",
     "output_type": "stream",
     "text": [
      "/home/bioimaging/miniconda3/envs/cellpose/lib/python3.10/site-packages/skimage/_shared/utils.py:328: UserWarning: /media/bioimaging/SWAP/Rita_Alex/train/20240913_rc_brain_2_3_fos_neun_gfp-01_AcquisitionBlock8_pt8-Stitching-08_C0_Z5.ome_mask.tiff is a low contrast image\n",
      "  return func(*args, **kwargs)\n"
     ]
    },
    {
     "name": "stdout",
     "output_type": "stream",
     "text": [
      "time : 94.72s 20240913_rc_brain_2_3_fos_neun_gfp-01_AcquisitionBlock8_pt8-Stitching-08_C0_Z5.ome\n"
     ]
    },
    {
     "name": "stderr",
     "output_type": "stream",
     "text": [
      "/home/bioimaging/miniconda3/envs/cellpose/lib/python3.10/site-packages/skimage/_shared/utils.py:328: UserWarning: /media/bioimaging/SWAP/Rita_Alex/train/20240913_rc_brain_2_3_fos_neun_gfp-01_AcquisitionBlock8_pt8-Stitching-08_C1_Z0.ome_mask.tiff is a low contrast image\n",
      "  return func(*args, **kwargs)\n"
     ]
    },
    {
     "name": "stdout",
     "output_type": "stream",
     "text": [
      "time : 113.35s 20240913_rc_brain_2_3_fos_neun_gfp-01_AcquisitionBlock8_pt8-Stitching-08_C1_Z0.ome\n"
     ]
    },
    {
     "name": "stderr",
     "output_type": "stream",
     "text": [
      "/home/bioimaging/miniconda3/envs/cellpose/lib/python3.10/site-packages/skimage/_shared/utils.py:328: UserWarning: /media/bioimaging/SWAP/Rita_Alex/train/20240913_rc_brain_2_3_fos_neun_gfp-01_AcquisitionBlock8_pt8-Stitching-08_C1_Z1.ome_mask.tiff is a low contrast image\n",
      "  return func(*args, **kwargs)\n"
     ]
    },
    {
     "name": "stdout",
     "output_type": "stream",
     "text": [
      "time : 130.46s 20240913_rc_brain_2_3_fos_neun_gfp-01_AcquisitionBlock8_pt8-Stitching-08_C1_Z1.ome\n"
     ]
    },
    {
     "name": "stderr",
     "output_type": "stream",
     "text": [
      "/home/bioimaging/miniconda3/envs/cellpose/lib/python3.10/site-packages/skimage/_shared/utils.py:328: UserWarning: /media/bioimaging/SWAP/Rita_Alex/train/20240913_rc_brain_2_3_fos_neun_gfp-01_AcquisitionBlock8_pt8-Stitching-08_C1_Z2.ome_mask.tiff is a low contrast image\n",
      "  return func(*args, **kwargs)\n"
     ]
    },
    {
     "name": "stdout",
     "output_type": "stream",
     "text": [
      "time : 125.50s 20240913_rc_brain_2_3_fos_neun_gfp-01_AcquisitionBlock8_pt8-Stitching-08_C1_Z2.ome\n"
     ]
    },
    {
     "name": "stderr",
     "output_type": "stream",
     "text": [
      "/home/bioimaging/miniconda3/envs/cellpose/lib/python3.10/site-packages/skimage/_shared/utils.py:328: UserWarning: /media/bioimaging/SWAP/Rita_Alex/train/20240913_rc_brain_2_3_fos_neun_gfp-01_AcquisitionBlock8_pt8-Stitching-08_C1_Z3.ome_mask.tiff is a low contrast image\n",
      "  return func(*args, **kwargs)\n"
     ]
    },
    {
     "name": "stdout",
     "output_type": "stream",
     "text": [
      "time : 122.06s 20240913_rc_brain_2_3_fos_neun_gfp-01_AcquisitionBlock8_pt8-Stitching-08_C1_Z3.ome\n"
     ]
    },
    {
     "name": "stderr",
     "output_type": "stream",
     "text": [
      "/home/bioimaging/miniconda3/envs/cellpose/lib/python3.10/site-packages/skimage/_shared/utils.py:328: UserWarning: /media/bioimaging/SWAP/Rita_Alex/train/20240913_rc_brain_2_3_fos_neun_gfp-01_AcquisitionBlock8_pt8-Stitching-08_C1_Z4.ome_mask.tiff is a low contrast image\n",
      "  return func(*args, **kwargs)\n"
     ]
    },
    {
     "name": "stdout",
     "output_type": "stream",
     "text": [
      "empty outlines found, saving 389 ImageJ ROIs to .zip archive.\n",
      "time : 114.42s 20240913_rc_brain_2_3_fos_neun_gfp-01_AcquisitionBlock8_pt8-Stitching-08_C1_Z4.ome\n"
     ]
    },
    {
     "name": "stderr",
     "output_type": "stream",
     "text": [
      "/home/bioimaging/miniconda3/envs/cellpose/lib/python3.10/site-packages/skimage/_shared/utils.py:328: UserWarning: /media/bioimaging/SWAP/Rita_Alex/train/20240913_rc_brain_2_3_fos_neun_gfp-01_AcquisitionBlock8_pt8-Stitching-08_C1_Z5.ome_mask.tiff is a low contrast image\n",
      "  return func(*args, **kwargs)\n"
     ]
    },
    {
     "name": "stdout",
     "output_type": "stream",
     "text": [
      "time : 92.45s 20240913_rc_brain_2_3_fos_neun_gfp-01_AcquisitionBlock8_pt8-Stitching-08_C1_Z5.ome\n"
     ]
    },
    {
     "name": "stderr",
     "output_type": "stream",
     "text": [
      "/home/bioimaging/miniconda3/envs/cellpose/lib/python3.10/site-packages/skimage/_shared/utils.py:328: UserWarning: /media/bioimaging/SWAP/Rita_Alex/train/20240913_rc_brain_2_3_fos_neun_gfp-01_AcquisitionBlock8_pt8-Stitching-08_C2_Z0.ome_mask.tiff is a low contrast image\n",
      "  return func(*args, **kwargs)\n"
     ]
    },
    {
     "name": "stdout",
     "output_type": "stream",
     "text": [
      "time : 119.27s 20240913_rc_brain_2_3_fos_neun_gfp-01_AcquisitionBlock8_pt8-Stitching-08_C2_Z0.ome\n",
      "time : 138.51s 20240913_rc_brain_2_3_fos_neun_gfp-01_AcquisitionBlock8_pt8-Stitching-08_C2_Z1.ome\n",
      "time : 141.92s 20240913_rc_brain_2_3_fos_neun_gfp-01_AcquisitionBlock8_pt8-Stitching-08_C2_Z2.ome\n",
      "time : 145.73s 20240913_rc_brain_2_3_fos_neun_gfp-01_AcquisitionBlock8_pt8-Stitching-08_C2_Z3.ome\n",
      "time : 139.70s 20240913_rc_brain_2_3_fos_neun_gfp-01_AcquisitionBlock8_pt8-Stitching-08_C2_Z4.ome\n"
     ]
    },
    {
     "name": "stderr",
     "output_type": "stream",
     "text": [
      "/home/bioimaging/miniconda3/envs/cellpose/lib/python3.10/site-packages/skimage/_shared/utils.py:328: UserWarning: /media/bioimaging/SWAP/Rita_Alex/train/20240913_rc_brain_2_3_fos_neun_gfp-01_AcquisitionBlock8_pt8-Stitching-08_C2_Z5.ome_mask.tiff is a low contrast image\n",
      "  return func(*args, **kwargs)\n"
     ]
    },
    {
     "name": "stdout",
     "output_type": "stream",
     "text": [
      "time : 107.94s 20240913_rc_brain_2_3_fos_neun_gfp-01_AcquisitionBlock8_pt8-Stitching-08_C2_Z5.ome\n"
     ]
    },
    {
     "name": "stderr",
     "output_type": "stream",
     "text": [
      "/home/bioimaging/miniconda3/envs/cellpose/lib/python3.10/site-packages/skimage/_shared/utils.py:328: UserWarning: /media/bioimaging/SWAP/Rita_Alex/train/20240913_rc_brain_2_3_fos_neun_gfp-01_AcquisitionBlock8_pt8-Stitching-08_C3_Z0.ome_mask.tiff is a low contrast image\n",
      "  return func(*args, **kwargs)\n"
     ]
    },
    {
     "name": "stdout",
     "output_type": "stream",
     "text": [
      "time : 117.67s 20240913_rc_brain_2_3_fos_neun_gfp-01_AcquisitionBlock8_pt8-Stitching-08_C3_Z0.ome\n"
     ]
    },
    {
     "name": "stderr",
     "output_type": "stream",
     "text": [
      "/home/bioimaging/miniconda3/envs/cellpose/lib/python3.10/site-packages/skimage/_shared/utils.py:328: UserWarning: /media/bioimaging/SWAP/Rita_Alex/train/20240913_rc_brain_2_3_fos_neun_gfp-01_AcquisitionBlock8_pt8-Stitching-08_C3_Z1.ome_mask.tiff is a low contrast image\n",
      "  return func(*args, **kwargs)\n"
     ]
    },
    {
     "name": "stdout",
     "output_type": "stream",
     "text": [
      "time : 118.13s 20240913_rc_brain_2_3_fos_neun_gfp-01_AcquisitionBlock8_pt8-Stitching-08_C3_Z1.ome\n"
     ]
    },
    {
     "name": "stderr",
     "output_type": "stream",
     "text": [
      "/home/bioimaging/miniconda3/envs/cellpose/lib/python3.10/site-packages/skimage/_shared/utils.py:328: UserWarning: /media/bioimaging/SWAP/Rita_Alex/train/20240913_rc_brain_2_3_fos_neun_gfp-01_AcquisitionBlock8_pt8-Stitching-08_C3_Z2.ome_mask.tiff is a low contrast image\n",
      "  return func(*args, **kwargs)\n"
     ]
    },
    {
     "name": "stdout",
     "output_type": "stream",
     "text": [
      "time : 118.97s 20240913_rc_brain_2_3_fos_neun_gfp-01_AcquisitionBlock8_pt8-Stitching-08_C3_Z2.ome\n"
     ]
    },
    {
     "name": "stderr",
     "output_type": "stream",
     "text": [
      "/home/bioimaging/miniconda3/envs/cellpose/lib/python3.10/site-packages/skimage/_shared/utils.py:328: UserWarning: /media/bioimaging/SWAP/Rita_Alex/train/20240913_rc_brain_2_3_fos_neun_gfp-01_AcquisitionBlock8_pt8-Stitching-08_C3_Z3.ome_mask.tiff is a low contrast image\n",
      "  return func(*args, **kwargs)\n"
     ]
    },
    {
     "name": "stdout",
     "output_type": "stream",
     "text": [
      "time : 118.13s 20240913_rc_brain_2_3_fos_neun_gfp-01_AcquisitionBlock8_pt8-Stitching-08_C3_Z3.ome\n"
     ]
    },
    {
     "name": "stderr",
     "output_type": "stream",
     "text": [
      "/home/bioimaging/miniconda3/envs/cellpose/lib/python3.10/site-packages/skimage/_shared/utils.py:328: UserWarning: /media/bioimaging/SWAP/Rita_Alex/train/20240913_rc_brain_2_3_fos_neun_gfp-01_AcquisitionBlock8_pt8-Stitching-08_C3_Z4.ome_mask.tiff is a low contrast image\n",
      "  return func(*args, **kwargs)\n"
     ]
    },
    {
     "name": "stdout",
     "output_type": "stream",
     "text": [
      "time : 114.75s 20240913_rc_brain_2_3_fos_neun_gfp-01_AcquisitionBlock8_pt8-Stitching-08_C3_Z4.ome\n"
     ]
    },
    {
     "name": "stderr",
     "output_type": "stream",
     "text": [
      "/home/bioimaging/miniconda3/envs/cellpose/lib/python3.10/site-packages/skimage/_shared/utils.py:328: UserWarning: /media/bioimaging/SWAP/Rita_Alex/train/20240913_rc_brain_2_3_fos_neun_gfp-01_AcquisitionBlock8_pt8-Stitching-08_C3_Z5.ome_mask.tiff is a low contrast image\n",
      "  return func(*args, **kwargs)\n"
     ]
    },
    {
     "name": "stdout",
     "output_type": "stream",
     "text": [
      "time : 101.97s 20240913_rc_brain_2_3_fos_neun_gfp-01_AcquisitionBlock8_pt8-Stitching-08_C3_Z5.ome\n"
     ]
    }
   ],
   "source": [
    "# Step 2: Automated Cell Segmentation using Cellpose\n",
    "# Import required libraries for cell segmentation\n",
    "from cellpose import models, io    # Cellpose for automated cell segmentation\n",
    "import matplotlib.pyplot as plt   # For plotting (if needed)\n",
    "import skimage.io as skio          # For image input/output\n",
    "from pathlib import Path           # For file path operations\n",
    "import time                        # For timing the segmentation process\n",
    "import os                          # For file system operations\n",
    "import numpy as np                 # For numerical operations\n",
    "\n",
    "# Define the folder containing the extracted channel images\n",
    "# This should point to the 'train' folder created in Step 1\n",
    "output_folder = Path(\"../slice_8/train\")  # Update this path as needed\n",
    "\n",
    "# Find all .tif images (channel images) and existing mask files\n",
    "images = sorted(output_folder.glob('*.tif'))\n",
    "existing_masks = sorted(output_folder.glob('*_masks.tif'))\n",
    "\n",
    "print(f\"[INFO] Found {len(images)} images to process\")\n",
    "print(f\"[INFO] Found {len(existing_masks)} existing masks (will skip these)\")\n",
    "\n",
    "# Initialize Cellpose model\n",
    "# 'cpsam' is a specialized model for cell segmentation\n",
    "# gpu=True enables GPU acceleration (set to False if no GPU available)\n",
    "model = models.CellposeModel(pretrained_model='cpsam', gpu=True)\n",
    "print(\"[INFO] Cellpose model loaded successfully\")\n",
    "\n",
    "# Process each image for cell segmentation\n",
    "for img_path in images:\n",
    "    # Check if mask already exists to avoid reprocessing\n",
    "    mask_name = img_path.stem + '_masks.tif'\n",
    "    if not any(mask_name in str(f) for f in existing_masks):\n",
    "        print(f\"[INFO] Processing: {img_path.name}\")\n",
    "        \n",
    "        # Start timing\n",
    "        t0 = time.time()\n",
    "        \n",
    "        # Load the image\n",
    "        image_data = skio.imread(img_path)\n",
    "        \n",
    "        # Run Cellpose segmentation\n",
    "        masks, flows, _ = model.eval(\n",
    "            image_data,\n",
    "            diameter=None,           # Auto-adjust for cell size\n",
    "            flow_threshold=0.4,      # Threshold for flow quality (0-1)\n",
    "            cellprob_threshold=0.0,  # Threshold for cell probability (0-1)\n",
    "            do_3D=False              # Set to True for 3D images\n",
    "        )\n",
    "        \n",
    "        # Save segmentation mask as TIFF\n",
    "        output_path = output_folder / f'{img_path.stem}_mask.tiff'\n",
    "        skio.imsave(output_path, masks.astype(np.uint16))\n",
    "        \n",
    "        # Save ROI coordinates as ZIP file for ImageJ compatibility\n",
    "        roi_path = output_folder / f\"{img_path.stem}.zip\"\n",
    "        io.save_rois(masks, str(roi_path))\n",
    "        \n",
    "        # Print processing time\n",
    "        elapsed_time = time.time() - t0\n",
    "        print(f\"[OK] Completed in {elapsed_time:.2f}s: {img_path.stem}\")\n",
    "        \n",
    "    else:\n",
    "        print(f\"[SKIP] Mask already exists for: {img_path.name}\")\n"
   ]
  },
  {
   "cell_type": "markdown",
   "id": "fd8aa001-44e6-4816-b673-cc866826a0ff",
   "metadata": {},
   "source": [
    "# Step 3: Cellpose Parameter Optimization (Optional)\n",
    "\n",
    "## Why Parameter Optimization Matters\n",
    "\n",
    "Different microscopy setups, cell types, and staining conditions may require parameter adjustment to achieve optimal segmentation results. This step helps you find the best Cellpose settings for your specific dataset.\n",
    "\n",
    "## Key Parameters to Optimize\n",
    "\n",
    "| Parameter | Description | Default | Range |\n",
    "|-----------|-------------|---------|--------|\n",
    "| `diameter` | Expected cell diameter in pixels | `None` (auto-detect) | Positive integer or `None` |\n",
    "| `flow_threshold` | Quality threshold for optical flow | `0.4` | `0.0` - `1.0` |\n",
    "| `cellprob_threshold` | Cell probability threshold | `0.0` | `-6.0` - `6.0` |\n",
    "\n",
    "## When to Use This Tool\n",
    "\n",
    "- **New cell types**: Different from standard training data\n",
    "- **Different imaging conditions**: Unusual brightness, contrast, or resolution  \n",
    "- **Poor segmentation results**: Default parameters aren't working well\n",
    "- **Optimization needed**: Want to maximize accuracy for your specific dataset\n",
    "\n",
    "## Workflow\n",
    "\n",
    "1. Select a representative image from your dataset\n",
    "2. Define parameter combinations to test\n",
    "3. Run the optimization function\n",
    "4. Compare cell counts and visual results\n",
    "5. Update main pipeline with optimal parameters\n",
    "\n",
    "**⚠️ Important**: Run this BEFORE the main segmentation in Step 2 to find optimal parameters for your dataset."
   ]
  },
  {
   "cell_type": "code",
   "execution_count": null,
   "id": "0f00ec9a-e175-42a4-bf69-f1ca78baa7ae",
   "metadata": {},
   "outputs": [],
   "source": [
    "# Parameter Testing Implementation\n",
    "# Import additional libraries for parameter optimization\n",
    "import matplotlib.pyplot as plt\n",
    "from cellpose import models\n",
    "import skimage.io as skio\n",
    "import numpy as np\n",
    "from pathlib import Path\n",
    "\n",
    "def test_cellpose_parameters(image_path, param_combinations):\n",
    "    \"\"\"\n",
    "    Test different parameter combinations on a single representative image\n",
    "    \n",
    "    Parameters:\n",
    "    - image_path: Path to a representative image for testing\n",
    "    - param_combinations: List of dictionaries with parameter combinations to test\n",
    "    \n",
    "    Returns:\n",
    "    - Dictionary with results for each parameter combination\n",
    "    \"\"\"\n",
    "    \n",
    "    # Load the test image\n",
    "    test_image = skio.imread(image_path)\n",
    "    model = models.CellposeModel(pretrained_model='cpsam', gpu=True)\n",
    "    \n",
    "    results = {}\n",
    "    \n",
    "    print(f\"Testing parameters on: {Path(image_path).name}\")\n",
    "    print(\"-\" * 60)\n",
    "    \n",
    "    for i, params in enumerate(param_combinations):\n",
    "        print(f\"Testing combination {i+1}/{len(param_combinations)}: {params}\")\n",
    "        \n",
    "        try:\n",
    "            # Run segmentation with current parameters\n",
    "            masks, flows, styles = model.eval(\n",
    "                test_image,\n",
    "                diameter=params.get('diameter', None),\n",
    "                flow_threshold=params.get('flow_threshold', 0.4),\n",
    "                cellprob_threshold=params.get('cellprob_threshold', 0.0),\n",
    "                do_3D=False\n",
    "            )\n",
    "            \n",
    "            # Count detected cells\n",
    "            num_cells = len(np.unique(masks)) - 1  # Subtract 1 for background\n",
    "            \n",
    "            results[f\"combo_{i+1}\"] = {\n",
    "                'parameters': params,\n",
    "                'num_cells_detected': num_cells,\n",
    "                'masks': masks\n",
    "            }\n",
    "            \n",
    "            print(f\"  → Detected {num_cells} cells\")\n",
    "            \n",
    "        except Exception as e:\n",
    "            print(f\"  → Error: {e}\")\n",
    "            results[f\"combo_{i+1}\"] = {\n",
    "                'parameters': params,\n",
    "                'error': str(e)\n",
    "            }\n",
    "    \n",
    "    return results\n",
    "\n",
    "# Example usage - uncomment to run parameter optimization\n",
    "\"\"\"\n",
    "# Define parameter combinations to test\n",
    "parameter_combinations = [\n",
    "    {'diameter': None, 'flow_threshold': 0.4, 'cellprob_threshold': 0.0},   # Default\n",
    "    {'diameter': None, 'flow_threshold': 0.6, 'cellprob_threshold': 0.0},   # Higher flow threshold\n",
    "    {'diameter': None, 'flow_threshold': 0.3, 'cellprob_threshold': 0.0},   # Lower flow threshold\n",
    "    {'diameter': None, 'flow_threshold': 0.4, 'cellprob_threshold': -1.0},  # Lower cell prob threshold\n",
    "    {'diameter': None, 'flow_threshold': 0.4, 'cellprob_threshold': 1.0},   # Higher cell prob threshold\n",
    "    {'diameter': 30, 'flow_threshold': 0.4, 'cellprob_threshold': 0.0},     # Fixed diameter\n",
    "]\n",
    "\n",
    "# Select a representative image for testing\n",
    "test_image_path = \"../slice_8/train/20240913_rc_brain_2_3_fos_neun_gfp-01_AcquisitionBlock8_pt8-Stitching-08_C0_Z0.ome.tif\"\n",
    "\n",
    "# Run parameter testing\n",
    "if Path(test_image_path).exists():\n",
    "    parameter_results = test_cellpose_parameters(test_image_path, parameter_combinations)\n",
    "    \n",
    "    # Display results summary\n",
    "    print(\"\\n\" + \"=\"*60)\n",
    "    print(\"PARAMETER OPTIMIZATION RESULTS\")\n",
    "    print(\"=\"*60)\n",
    "    \n",
    "    for combo_name, result in parameter_results.items():\n",
    "        if 'error' not in result:\n",
    "            params = result['parameters']\n",
    "            cells = result['num_cells_detected']\n",
    "            print(f\"{combo_name}: {cells} cells | {params}\")\n",
    "    \n",
    "    print(\"\\nRecommendation: Choose parameters that give reasonable cell counts\")\n",
    "    print(\"for your specific images and adjust the main pipeline accordingly.\")\n",
    "else:\n",
    "    print(f\"Test image not found: {test_image_path}\")\n",
    "    print(\"Update the path to point to one of your processed images.\")\n",
    "\"\"\"\n",
    "\n",
    "print(\"Parameter optimization tools loaded.\")\n",
    "print(\"Uncomment the code above to test different parameter combinations on your images.\")\n"
   ]
  }
 ],
 "metadata": {
  "kernelspec": {
   "display_name": "Python 3 (ipykernel)",
   "language": "python",
   "name": "python3"
  },
  "language_info": {
   "codemirror_mode": {
    "name": "ipython",
    "version": 3
   },
   "file_extension": ".py",
   "mimetype": "text/x-python",
   "name": "python",
   "nbconvert_exporter": "python",
   "pygments_lexer": "ipython3",
   "version": "3.12.9"
  }
 },
 "nbformat": 4,
 "nbformat_minor": 5
}
